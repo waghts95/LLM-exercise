{
  "cells": [
    {
      "cell_type": "markdown",
      "metadata": {
        "id": "uAxzv_OovPD6"
      },
      "source": [
        "🧱 1️⃣ Install Dependencies"
      ]
    },
    {
      "cell_type": "code",
      "execution_count": 2,
      "metadata": {
        "colab": {
          "base_uri": "https://localhost:8080/"
        },
        "id": "C3q5QNYctWSQ",
        "outputId": "3fcee5b8-0fe1-4af3-fdd6-7e9201390fd7"
      },
      "outputs": [
        {
          "name": "stdout",
          "output_type": "stream",
          "text": [
            "\u001b[2K\u001b[2mResolved \u001b[1m198 packages\u001b[0m \u001b[2min 150ms\u001b[0m\u001b[0m                                       \u001b[0m\n",
            "\u001b[1m\u001b[33mwarning\u001b[39m\u001b[0m\u001b[1m:\u001b[0m \u001b[1m`transformers==4.57.0` is yanked (reason: \"Error in the setup causing installation issues\")\u001b[0m\n",
            "\u001b[2K\u001b[1m\u001b[33mwarning\u001b[39m\u001b[0m\u001b[1m:\u001b[0m \u001b[1m`transformers==4.57.0` is yanked (reason: \"Error in the setup causing installation issues\")\u001b[0m\n",
            "\u001b[2K\u001b[37m⠙\u001b[0m \u001b[2mPreparing packages...\u001b[0m (0/3)                                                   \n",
            "\u001b[2K\u001b[1A\u001b[37m⠙\u001b[0m \u001b[2mPreparing packages...\u001b[0m (0/3)--------------\u001b[0m\u001b[0m     0 B/57.31 MiB           \u001b[1A\n",
            "\u001b[2K\u001b[1A\u001b[37m⠙\u001b[0m \u001b[2mPreparing packages...\u001b[0m (0/3)--------------\u001b[0m\u001b[0m     0 B/57.31 MiB           \u001b[1A\n",
            "\u001b[2mpeft                \u001b[0m \u001b[32m\u001b[2m------------------------------\u001b[0m\u001b[0m     0 B/493.06 KiB\n",
            "\u001b[2K\u001b[2A\u001b[37m⠙\u001b[0m \u001b[2mPreparing packages...\u001b[0m (0/3)--------------\u001b[0m\u001b[0m     0 B/57.31 MiB           \u001b[2A\n",
            "\u001b[2mpeft                \u001b[0m \u001b[32m\u001b[2m------------------------------\u001b[0m\u001b[0m     0 B/493.06 KiB\n",
            "\u001b[2K\u001b[2A\u001b[37m⠙\u001b[0m \u001b[2mPreparing packages...\u001b[0m (0/3)--------------\u001b[0m\u001b[0m     0 B/57.31 MiB           \u001b[2A\n",
            "\u001b[2mpeft                \u001b[0m \u001b[32m\u001b[2m------------------------------\u001b[0m\u001b[0m     0 B/493.06 KiB\n",
            "\u001b[2K\u001b[2A\u001b[37m⠙\u001b[0m \u001b[2mPreparing packages...\u001b[0m (0/3)--------------\u001b[0m\u001b[0m     0 B/57.31 MiB           \u001b[2A\n",
            "\u001b[2mpeft                \u001b[0m \u001b[32m\u001b[2m------------------------------\u001b[0m\u001b[0m     0 B/493.06 KiB\n",
            "\u001b[2msentencepiece       \u001b[0m \u001b[32m\u001b[2m------------------------------\u001b[0m\u001b[0m     0 B/1.32 MiB\n",
            "\u001b[2K\u001b[3A\u001b[37m⠙\u001b[0m \u001b[2mPreparing packages...\u001b[0m (0/3)--------------\u001b[0m\u001b[0m     0 B/57.31 MiB           \u001b[3A\n",
            "\u001b[2mpeft                \u001b[0m \u001b[32m\u001b[2m------------------------------\u001b[0m\u001b[0m     0 B/493.06 KiB\n",
            "\u001b[2msentencepiece       \u001b[0m \u001b[32m-\u001b[2m-----------------------------\u001b[0m\u001b[0m 14.03 KiB/1.32 MiB\n",
            "\u001b[2K\u001b[3A\u001b[37m⠙\u001b[0m \u001b[2mPreparing packages...\u001b[0m (0/3)--------------\u001b[0m\u001b[0m     0 B/57.31 MiB           \u001b[3A\n",
            "\u001b[2mpeft                \u001b[0m \u001b[32m\u001b[2m------------------------------\u001b[0m\u001b[0m     0 B/493.06 KiB\n",
            "\u001b[2msentencepiece       \u001b[0m \u001b[32m-\u001b[2m-----------------------------\u001b[0m\u001b[0m 30.03 KiB/1.32 MiB\n",
            "\u001b[2K\u001b[3A\u001b[37m⠙\u001b[0m \u001b[2mPreparing packages...\u001b[0m (0/3)--------------\u001b[0m\u001b[0m     0 B/57.31 MiB           \u001b[3A\n",
            "\u001b[2mpeft                \u001b[0m \u001b[32m\u001b[2m------------------------------\u001b[0m\u001b[0m     0 B/493.06 KiB\n",
            "\u001b[2msentencepiece       \u001b[0m \u001b[32m--\u001b[2m----------------------------\u001b[0m\u001b[0m 46.03 KiB/1.32 MiB\n",
            "\u001b[2K\u001b[3A\u001b[37m⠙\u001b[0m \u001b[2mPreparing packages...\u001b[0m (0/3)--------------\u001b[0m\u001b[0m     0 B/57.31 MiB           \u001b[3A\n",
            "\u001b[2mpeft                \u001b[0m \u001b[32m\u001b[2m------------------------------\u001b[0m\u001b[0m     0 B/493.06 KiB\n",
            "\u001b[2msentencepiece       \u001b[0m \u001b[32m--\u001b[2m----------------------------\u001b[0m\u001b[0m 62.03 KiB/1.32 MiB\n",
            "\u001b[2K\u001b[3A\u001b[37m⠙\u001b[0m \u001b[2mPreparing packages...\u001b[0m (0/3)--------------\u001b[0m\u001b[0m     0 B/57.31 MiB           \u001b[3A\n",
            "\u001b[2mpeft                \u001b[0m \u001b[32m\u001b[2m------------------------------\u001b[0m\u001b[0m     0 B/493.06 KiB\n",
            "\u001b[2msentencepiece       \u001b[0m \u001b[32m--\u001b[2m----------------------------\u001b[0m\u001b[0m 77.82 KiB/1.32 MiB\n",
            "\u001b[2K\u001b[3A\u001b[37m⠙\u001b[0m \u001b[2mPreparing packages...\u001b[0m (0/3)--------------\u001b[0m\u001b[0m     0 B/57.31 MiB           \u001b[3A\n",
            "\u001b[2mpeft                \u001b[0m \u001b[32m-\u001b[2m-----------------------------\u001b[0m\u001b[0m 16.00 KiB/493.06 KiB\n",
            "\u001b[2msentencepiece       \u001b[0m \u001b[32m--\u001b[2m----------------------------\u001b[0m\u001b[0m 77.82 KiB/1.32 MiB\n",
            "\u001b[2K\u001b[3A\u001b[37m⠙\u001b[0m \u001b[2mPreparing packages...\u001b[0m (0/3)--------------\u001b[0m\u001b[0m     0 B/57.31 MiB           \u001b[3A\n",
            "\u001b[2mpeft                \u001b[0m \u001b[32m-\u001b[2m-----------------------------\u001b[0m\u001b[0m 16.00 KiB/493.06 KiB\n",
            "\u001b[2msentencepiece       \u001b[0m \u001b[32m--\u001b[2m----------------------------\u001b[0m\u001b[0m 77.82 KiB/1.32 MiB\n",
            "\u001b[2K\u001b[3A\u001b[37m⠙\u001b[0m \u001b[2mPreparing packages...\u001b[0m (0/3)--------------\u001b[0m\u001b[0m 16.00 KiB/57.31 MiB         \u001b[3A\n",
            "\u001b[2mpeft                \u001b[0m \u001b[32m--\u001b[2m----------------------------\u001b[0m\u001b[0m 32.00 KiB/493.06 KiB\n",
            "\u001b[2msentencepiece       \u001b[0m \u001b[32m--\u001b[2m----------------------------\u001b[0m\u001b[0m 77.82 KiB/1.32 MiB\n",
            "\u001b[2K\u001b[3A\u001b[37m⠙\u001b[0m \u001b[2mPreparing packages...\u001b[0m (0/3)--------------\u001b[0m\u001b[0m 16.00 KiB/57.31 MiB         \u001b[3A\n",
            "\u001b[2mpeft                \u001b[0m \u001b[32m--\u001b[2m----------------------------\u001b[0m\u001b[0m 32.00 KiB/493.06 KiB\n",
            "\u001b[2msentencepiece       \u001b[0m \u001b[32m--\u001b[2m----------------------------\u001b[0m\u001b[0m 77.82 KiB/1.32 MiB\n",
            "\u001b[2K\u001b[3A\u001b[37m⠙\u001b[0m \u001b[2mPreparing packages...\u001b[0m (0/3)--------------\u001b[0m\u001b[0m 32.00 KiB/57.31 MiB         \u001b[3A\n",
            "\u001b[2mpeft                \u001b[0m \u001b[32m--\u001b[2m----------------------------\u001b[0m\u001b[0m 32.00 KiB/493.06 KiB\n",
            "\u001b[2msentencepiece       \u001b[0m \u001b[32m---\u001b[2m---------------------------\u001b[0m\u001b[0m 93.82 KiB/1.32 MiB\n",
            "\u001b[2K\u001b[3A\u001b[37m⠙\u001b[0m \u001b[2mPreparing packages...\u001b[0m (0/3)--------------\u001b[0m\u001b[0m 32.00 KiB/57.31 MiB         \u001b[3A\n",
            "\u001b[2mpeft                \u001b[0m \u001b[32m---\u001b[2m---------------------------\u001b[0m\u001b[0m 48.00 KiB/493.06 KiB\n",
            "\u001b[2msentencepiece       \u001b[0m \u001b[32m---\u001b[2m---------------------------\u001b[0m\u001b[0m 93.82 KiB/1.32 MiB\n",
            "\u001b[2K\u001b[3A\u001b[37m⠙\u001b[0m \u001b[2mPreparing packages...\u001b[0m (0/3)--------------\u001b[0m\u001b[0m 32.00 KiB/57.31 MiB         \u001b[3A\n",
            "\u001b[2mpeft                \u001b[0m \u001b[32m----\u001b[2m--------------------------\u001b[0m\u001b[0m 64.00 KiB/493.06 KiB\n",
            "\u001b[2msentencepiece       \u001b[0m \u001b[32m---\u001b[2m---------------------------\u001b[0m\u001b[0m 109.82 KiB/1.32 MiB\n",
            "\u001b[2K\u001b[3A\u001b[37m⠙\u001b[0m \u001b[2mPreparing packages...\u001b[0m (0/3)--------------\u001b[0m\u001b[0m 48.00 KiB/57.31 MiB         \u001b[3A\n",
            "\u001b[2msentencepiece       \u001b[0m \u001b[32m-----------------------\u001b[2m-------\u001b[0m\u001b[0m 1001.82 KiB/1.32 MiB\n",
            "\u001b[2K\u001b[2A\u001b[37m⠙\u001b[0m \u001b[2mPreparing packages...\u001b[0m (0/3)--------------\u001b[0m\u001b[0m 943.89 KiB/57.31 MiB        \u001b[2A\n",
            "\u001b[2msentencepiece       \u001b[0m \u001b[32m--------------------------\u001b[2m----\u001b[0m\u001b[0m 1.14 MiB/1.32 MiB\n",
            "\u001b[2K\u001b[2A\u001b[37m⠙\u001b[0m \u001b[2mPreparing packages...\u001b[0m (0/3)--------------\u001b[0m\u001b[0m 1.11 MiB/57.31 MiB          \u001b[2A\n",
            "\u001b[2K\u001b[1A\u001b[37m⠙\u001b[0m \u001b[2mPreparing packages...\u001b[0m (0/3)--------------\u001b[0m\u001b[0m 1.39 MiB/57.31 MiB          \u001b[1A\n",
            "\u001b[2K\u001b[1A\u001b[37m⠹\u001b[0m \u001b[2mPreparing packages...\u001b[0m (2/3)--------------\u001b[0m\u001b[0m 1.48 MiB/57.31 MiB          \u001b[1A\n",
            "\u001b[2K\u001b[1A\u001b[37m⠹\u001b[0m \u001b[2mPreparing packages...\u001b[0m (2/3)--------------\u001b[0m\u001b[0m 3.66 MiB/57.31 MiB          \u001b[1A\n",
            "\u001b[2K\u001b[1A\u001b[37m⠹\u001b[0m \u001b[2mPreparing packages...\u001b[0m (2/3)--------------\u001b[0m\u001b[0m 4.73 MiB/57.31 MiB          \u001b[1A\n",
            "\u001b[2K\u001b[1A\u001b[37m⠹\u001b[0m \u001b[2mPreparing packages...\u001b[0m (2/3)--------------\u001b[0m\u001b[0m 6.26 MiB/57.31 MiB          \u001b[1A\n",
            "\u001b[2K\u001b[1A\u001b[37m⠹\u001b[0m \u001b[2mPreparing packages...\u001b[0m (2/3)--------------\u001b[0m\u001b[0m 7.59 MiB/57.31 MiB          \u001b[1A\n",
            "\u001b[2K\u001b[1A\u001b[37m⠸\u001b[0m \u001b[2mPreparing packages...\u001b[0m (2/3)--------------\u001b[0m\u001b[0m 8.64 MiB/57.31 MiB          \u001b[1A\n",
            "\u001b[2K\u001b[1A\u001b[37m⠸\u001b[0m \u001b[2mPreparing packages...\u001b[0m (2/3)--------------\u001b[0m\u001b[0m 9.68 MiB/57.31 MiB          \u001b[1A\n",
            "\u001b[2K\u001b[1A\u001b[37m⠸\u001b[0m \u001b[2mPreparing packages...\u001b[0m (2/3)--------------\u001b[0m\u001b[0m 10.44 MiB/57.31 MiB         \u001b[1A\n",
            "\u001b[2K\u001b[1A\u001b[37m⠸\u001b[0m \u001b[2mPreparing packages...\u001b[0m (2/3)--------------\u001b[0m\u001b[0m 11.51 MiB/57.31 MiB         \u001b[1A\n",
            "\u001b[2K\u001b[1A\u001b[37m⠼\u001b[0m \u001b[2mPreparing packages...\u001b[0m (2/3)--------------\u001b[0m\u001b[0m 12.64 MiB/57.31 MiB         \u001b[1A\n",
            "\u001b[2K\u001b[1A\u001b[37m⠼\u001b[0m \u001b[2mPreparing packages...\u001b[0m (2/3)--------------\u001b[0m\u001b[0m 13.36 MiB/57.31 MiB         \u001b[1A\n",
            "\u001b[2K\u001b[1A\u001b[37m⠼\u001b[0m \u001b[2mPreparing packages...\u001b[0m (2/3)--------------\u001b[0m\u001b[0m 13.98 MiB/57.31 MiB         \u001b[1A\n",
            "\u001b[2K\u001b[1A\u001b[37m⠼\u001b[0m \u001b[2mPreparing packages...\u001b[0m (2/3)--------------\u001b[0m\u001b[0m 15.05 MiB/57.31 MiB         \u001b[1A\n",
            "\u001b[2K\u001b[1A\u001b[37m⠴\u001b[0m \u001b[2mPreparing packages...\u001b[0m (2/3)--------------\u001b[0m\u001b[0m 16.11 MiB/57.31 MiB         \u001b[1A\n",
            "\u001b[2K\u001b[1A\u001b[37m⠴\u001b[0m \u001b[2mPreparing packages...\u001b[0m (2/3)--------------\u001b[0m\u001b[0m 17.20 MiB/57.31 MiB         \u001b[1A\n",
            "\u001b[2K\u001b[1A\u001b[37m⠴\u001b[0m \u001b[2mPreparing packages...\u001b[0m (2/3)--------------\u001b[0m\u001b[0m 18.05 MiB/57.31 MiB         \u001b[1A\n",
            "\u001b[2K\u001b[1A\u001b[37m⠴\u001b[0m \u001b[2mPreparing packages...\u001b[0m (2/3)--------------\u001b[0m\u001b[0m 19.03 MiB/57.31 MiB         \u001b[1A\n",
            "\u001b[2K\u001b[1A\u001b[37m⠦\u001b[0m \u001b[2mPreparing packages...\u001b[0m (2/3)--------------\u001b[0m\u001b[0m 19.59 MiB/57.31 MiB         \u001b[1A\n",
            "\u001b[2K\u001b[1A\u001b[37m⠦\u001b[0m \u001b[2mPreparing packages...\u001b[0m (2/3)--------------\u001b[0m\u001b[0m 20.15 MiB/57.31 MiB         \u001b[1A\n",
            "\u001b[2K\u001b[1A\u001b[37m⠦\u001b[0m \u001b[2mPreparing packages...\u001b[0m (2/3)--------------\u001b[0m\u001b[0m 20.75 MiB/57.31 MiB         \u001b[1A\n",
            "\u001b[2K\u001b[1A\u001b[37m⠦\u001b[0m \u001b[2mPreparing packages...\u001b[0m (2/3)--------------\u001b[0m\u001b[0m 21.57 MiB/57.31 MiB         \u001b[1A\n",
            "\u001b[2K\u001b[1A\u001b[37m⠧\u001b[0m \u001b[2mPreparing packages...\u001b[0m (2/3)--------------\u001b[0m\u001b[0m 22.47 MiB/57.31 MiB         \u001b[1A\n",
            "\u001b[2K\u001b[1A\u001b[37m⠧\u001b[0m \u001b[2mPreparing packages...\u001b[0m (2/3)--------------\u001b[0m\u001b[0m 23.30 MiB/57.31 MiB         \u001b[1A\n",
            "\u001b[2K\u001b[1A\u001b[37m⠧\u001b[0m \u001b[2mPreparing packages...\u001b[0m (2/3)--------------\u001b[0m\u001b[0m 24.12 MiB/57.31 MiB         \u001b[1A\n",
            "\u001b[2K\u001b[1A\u001b[37m⠇\u001b[0m \u001b[2mPreparing packages...\u001b[0m (2/3)--------------\u001b[0m\u001b[0m 25.30 MiB/57.31 MiB         \u001b[1A\n",
            "\u001b[2K\u001b[1A\u001b[37m⠇\u001b[0m \u001b[2mPreparing packages...\u001b[0m (2/3)--------------\u001b[0m\u001b[0m 26.32 MiB/57.31 MiB         \u001b[1A\n",
            "\u001b[2K\u001b[1A\u001b[37m⠇\u001b[0m \u001b[2mPreparing packages...\u001b[0m (2/3)--------------\u001b[0m\u001b[0m 27.56 MiB/57.31 MiB         \u001b[1A\n",
            "\u001b[2K\u001b[1A\u001b[37m⠇\u001b[0m \u001b[2mPreparing packages...\u001b[0m (2/3)--------------\u001b[0m\u001b[0m 28.64 MiB/57.31 MiB         \u001b[1A\n",
            "\u001b[2K\u001b[1A\u001b[37m⠋\u001b[0m \u001b[2mPreparing packages...\u001b[0m (2/3)--------------\u001b[0m\u001b[0m 29.78 MiB/57.31 MiB         \u001b[1A\n",
            "\u001b[2K\u001b[1A\u001b[37m⠋\u001b[0m \u001b[2mPreparing packages...\u001b[0m (2/3)m-------------\u001b[0m\u001b[0m 31.04 MiB/57.31 MiB         \u001b[1A\n",
            "\u001b[2K\u001b[1A\u001b[37m⠋\u001b[0m \u001b[2mPreparing packages...\u001b[0m (2/3)2m------------\u001b[0m\u001b[0m 32.55 MiB/57.31 MiB         \u001b[1A\n",
            "\u001b[2K\u001b[1A\u001b[37m⠋\u001b[0m \u001b[2mPreparing packages...\u001b[0m (2/3)2m------------\u001b[0m\u001b[0m 34.00 MiB/57.31 MiB         \u001b[1A\n",
            "\u001b[2K\u001b[1A\u001b[37m⠋\u001b[0m \u001b[2mPreparing packages...\u001b[0m (2/3)[2m-----------\u001b[0m\u001b[0m 35.47 MiB/57.31 MiB         \u001b[1A\n",
            "\u001b[2K\u001b[1A\u001b[37m⠙\u001b[0m \u001b[2mPreparing packages...\u001b[0m (2/3)\u001b[2m----------\u001b[0m\u001b[0m 36.50 MiB/57.31 MiB         \u001b[1A\n",
            "\u001b[2K\u001b[1A\u001b[37m⠙\u001b[0m \u001b[2mPreparing packages...\u001b[0m (2/3)\u001b[2m----------\u001b[0m\u001b[0m 37.95 MiB/57.31 MiB         \u001b[1A\n",
            "\u001b[2K\u001b[1A\u001b[37m⠙\u001b[0m \u001b[2mPreparing packages...\u001b[0m (2/3)-\u001b[2m---------\u001b[0m\u001b[0m 39.37 MiB/57.31 MiB         \u001b[1A\n",
            "\u001b[2K\u001b[1A\u001b[37m⠹\u001b[0m \u001b[2mPreparing packages...\u001b[0m (2/3)--\u001b[2m--------\u001b[0m\u001b[0m 40.97 MiB/57.31 MiB         \u001b[1A\n",
            "\u001b[2K\u001b[1A\u001b[37m⠹\u001b[0m \u001b[2mPreparing packages...\u001b[0m (2/3)---\u001b[2m-------\u001b[0m\u001b[0m 42.40 MiB/57.31 MiB         \u001b[1A\n",
            "\u001b[2K\u001b[1A\u001b[37m⠹\u001b[0m \u001b[2mPreparing packages...\u001b[0m (2/3)---\u001b[2m-------\u001b[0m\u001b[0m 43.72 MiB/57.31 MiB         \u001b[1A\n",
            "\u001b[2K\u001b[1A\u001b[37m⠹\u001b[0m \u001b[2mPreparing packages...\u001b[0m (2/3)----\u001b[2m------\u001b[0m\u001b[0m 44.67 MiB/57.31 MiB         \u001b[1A\n",
            "\u001b[2K\u001b[1A\u001b[37m⠹\u001b[0m \u001b[2mPreparing packages...\u001b[0m (2/3)----\u001b[2m------\u001b[0m\u001b[0m 45.66 MiB/57.31 MiB         \u001b[1A\n",
            "\u001b[2K\u001b[1A\u001b[37m⠸\u001b[0m \u001b[2mPreparing packages...\u001b[0m (2/3)-----\u001b[2m-----\u001b[0m\u001b[0m 46.62 MiB/57.31 MiB         \u001b[1A\n",
            "\u001b[2K\u001b[1A\u001b[37m⠸\u001b[0m \u001b[2mPreparing packages...\u001b[0m (2/3)-----\u001b[2m-----\u001b[0m\u001b[0m 47.72 MiB/57.31 MiB         \u001b[1A\n",
            "\u001b[2K\u001b[1A\u001b[37m⠸\u001b[0m \u001b[2mPreparing packages...\u001b[0m (2/3)------\u001b[2m----\u001b[0m\u001b[0m 48.93 MiB/57.31 MiB         \u001b[1A\n",
            "\u001b[2K\u001b[1A\u001b[37m⠸\u001b[0m \u001b[2mPreparing packages...\u001b[0m (2/3)-------\u001b[2m---\u001b[0m\u001b[0m 50.15 MiB/57.31 MiB         \u001b[1A\n",
            "\u001b[2K\u001b[1A\u001b[37m⠼\u001b[0m \u001b[2mPreparing packages...\u001b[0m (2/3)-------\u001b[2m---\u001b[0m\u001b[0m 51.36 MiB/57.31 MiB         \u001b[1A\n",
            "\u001b[2K\u001b[1A\u001b[37m⠼\u001b[0m \u001b[2mPreparing packages...\u001b[0m (2/3)--------\u001b[2m--\u001b[0m\u001b[0m 52.61 MiB/57.31 MiB         \u001b[1A\n",
            "\u001b[2K\u001b[1A\u001b[37m⠼\u001b[0m \u001b[2mPreparing packages...\u001b[0m (2/3)---------\u001b[2m-\u001b[0m\u001b[0m 53.84 MiB/57.31 MiB         \u001b[1A\n",
            "\u001b[2K\u001b[1A\u001b[37m⠼\u001b[0m \u001b[2mPreparing packages...\u001b[0m (2/3)---------\u001b[2m-\u001b[0m\u001b[0m 55.08 MiB/57.31 MiB         \u001b[1A\n",
            "\u001b[2K\u001b[2mPrepared \u001b[1m3 packages\u001b[0m \u001b[2min 2.64s\u001b[0m\u001b[0m                                                 \u001b[1A\n",
            "\u001b[2K\u001b[2mInstalled \u001b[1m3 packages\u001b[0m \u001b[2min 38ms\u001b[0m\u001b[0m                                \u001b[0m\n",
            " \u001b[32m+\u001b[39m \u001b[1mbitsandbytes\u001b[0m\u001b[2m==0.48.1\u001b[0m\n",
            " \u001b[32m+\u001b[39m \u001b[1mpeft\u001b[0m\u001b[2m==0.17.1\u001b[0m\n",
            " \u001b[32m+\u001b[39m \u001b[1msentencepiece\u001b[0m\u001b[2m==0.2.1\u001b[0m\n"
          ]
        }
      ],
      "source": [
        "!uv add transformers datasets accelerate bitsandbytes peft sentencepiece"
      ]
    },
    {
      "cell_type": "markdown",
      "metadata": {
        "id": "QItwdrb8vaVy"
      },
      "source": [
        "🧠 2️⃣ Import Libraries"
      ]
    },
    {
      "cell_type": "code",
      "execution_count": 3,
      "metadata": {
        "id": "2EL6kTv7vZnO"
      },
      "outputs": [],
      "source": [
        "from transformers import (\n",
        "    AutoTokenizer,\n",
        "    AutoModelForCausalLM,\n",
        "    Trainer,\n",
        "    TrainingArguments,\n",
        "    DataCollatorForLanguageModeling,\n",
        ")\n",
        "import torch"
      ]
    },
    {
      "cell_type": "markdown",
      "metadata": {
        "id": "zGWqZ8sb67FJ"
      },
      "source": [
        "🧩 3️⃣ Inspect and Load the Data"
      ]
    },
    {
      "cell_type": "code",
      "execution_count": null,
      "metadata": {},
      "outputs": [],
      "source": [
        "! mkdir -p data && gsutil -m cp gs://tusharwagh.appspot.com/data/combined_dataset.json data"
      ]
    },
    {
      "cell_type": "code",
      "execution_count": 4,
      "metadata": {
        "colab": {
          "base_uri": "https://localhost:8080/"
        },
        "id": "baR0CGjp8n6-",
        "outputId": "bc8af7e1-f22b-45f4-e73d-4c6f52533251"
      },
      "outputs": [
        {
          "name": "stdout",
          "output_type": "stream",
          "text": [
            "DatasetDict({\n",
            "    train: Dataset({\n",
            "        features: ['Context', 'Response'],\n",
            "        num_rows: 3512\n",
            "    })\n",
            "})\n",
            "{'Context': \"I'm going through some things with my feelings and myself. I barely sleep and I do nothing but think about how I'm worthless and how I shouldn't be here.\\n   I've never tried or contemplated suicide. I've always wanted to fix my issues, but I never get around to it.\\n   How can I change my feeling of being worthless to everyone?\", 'Response': \"If everyone thinks you're worthless, then maybe you need to find new people to hang out with.Seriously, the social context in which a person lives is a big influence in self-esteem.Otherwise, you can go round and round trying to understand why you're not worthless, then go back to the same crowd and be knocked down again.There are many inspirational messages you can find in social media. \\xa0Maybe read some of the ones which state that no person is worthless, and that everyone has a good purpose to their life.Also, since our culture is so saturated with the belief that if someone doesn't feel good about themselves that this is somehow terrible.Bad feelings are part of living. \\xa0They are the motivation to remove ourselves from situations and relationships which do us more harm than good.Bad feelings do feel terrible. \\xa0 Your feeling of worthlessness may be good in the sense of motivating you to find out that you are much better than your feelings today.\"}\n"
          ]
        }
      ],
      "source": [
        "from datasets import load_dataset\n",
        "\n",
        "# Load your uploaded JSON file directly\n",
        "dataset = load_dataset(\"json\", data_files=\"data/combined_dataset.json\")\n",
        "\n",
        "# View sample\n",
        "print(dataset)\n",
        "print(dataset[\"train\"][0])"
      ]
    },
    {
      "cell_type": "markdown",
      "metadata": {
        "id": "hfdhBgfj8y_E"
      },
      "source": [
        "🧩 Prepare for Language Modeling"
      ]
    },
    {
      "cell_type": "markdown",
      "metadata": {
        "id": "IM8RYFrI858Y"
      },
      "source": [
        "Combine context and response into one conversational string so the model learns counselor-style replies."
      ]
    },
    {
      "cell_type": "code",
      "execution_count": 5,
      "metadata": {
        "id": "ytQFIiFy82P6"
      },
      "outputs": [],
      "source": [
        "def format_conversation(example):\n",
        "    return {\n",
        "        \"text\": f\"Client: {example['Context'].strip()}\\nCounselor: {example['Response'].strip()}\"\n",
        "    }\n",
        "\n",
        "dataset = dataset[\"train\"].map(format_conversation)\n"
      ]
    },
    {
      "cell_type": "markdown",
      "metadata": {
        "id": "CxdDDSXjwJ90"
      },
      "source": [
        "🦙 6️⃣ Choose Base Llama Model\n",
        "\n",
        "You can choose any open-source variant:\n",
        "\n",
        "    Model\t                         Parameter\t   Notes<br>\n",
        "    \"meta-llama/Meta-Llama-3-8B\"\t  8B\t      Best balance of quality/performance\n",
        "    \"meta-llama/Llama-2-7b-hf\"\t      7B\t      Older but lightweight\n",
        "    \"meta-llama/Meta-Llama-3-70B\"\t  70B\t      For multi-GPU clusters"
      ]
    },
    {
      "cell_type": "markdown",
      "metadata": {
        "id": "8MFUUfbswqtR"
      },
      "source": [
        "For Colab, stick with the 8B or 7B versions."
      ]
    },
    {
      "cell_type": "markdown",
      "metadata": {
        "id": "G_q60gKszjuz"
      },
      "source": [
        "⚙️ 8️⃣ Load Model"
      ]
    },
    {
      "cell_type": "code",
      "execution_count": 6,
      "metadata": {
        "colab": {
          "base_uri": "https://localhost:8080/",
          "height": 67,
          "referenced_widgets": [
            "636d8a3efdd84bdd985e720ae3a36a9f",
            "fabff6bbe4174f8483e81a19090c05a9",
            "eeacaef8a4d34d488d8c2f7443ed2fac",
            "32b1874d47774a04a029c288de8a7ca0",
            "ae6cc0fd9c7946bf8f0ea14b96c5a2ea",
            "3d544c172aaa44cd84a8926d56f03666",
            "b926746edcf54913a828d4767f25c6fa",
            "eb5309f4f29042dca6dce646dee1f6ae",
            "12beccafcf904169bcd1aa9c57f32bb9",
            "a489933ef658492aba21b994e398154b",
            "e8e84471a3364e1ebc6b3800690d86c4"
          ]
        },
        "id": "AjDvIwxowlvz",
        "outputId": "3b5689ac-15f6-4b76-c8a4-176c9315a5bd"
      },
      "outputs": [
        {
          "name": "stderr",
          "output_type": "stream",
          "text": [
            "`torch_dtype` is deprecated! Use `dtype` instead!\n",
            "Fetching 2 files: 100%|██████████| 2/2 [09:37<00:00, 288.73s/it]\n",
            "Loading checkpoint shards: 100%|██████████| 2/2 [00:02<00:00,  1.08s/it]\n",
            "Some parameters are on the meta device because they were offloaded to the disk and cpu.\n"
          ]
        }
      ],
      "source": [
        "model_name = \"NousResearch/Llama-2-7b-chat-hf\" # Changed to a publicly available model\n",
        "\n",
        "tokenizer = AutoTokenizer.from_pretrained(model_name)\n",
        "tokenizer.pad_token = tokenizer.eos_token  # Llama has no pad_token by default\n",
        "\n",
        "model = AutoModelForCausalLM.from_pretrained(\n",
        "    model_name,\n",
        "    device_map=\"auto\",\n",
        "    torch_dtype=torch.float16, # Changed to float16 for less memory usage\n",
        ")"
      ]
    },
    {
      "cell_type": "markdown",
      "metadata": {
        "id": "gI9lz1Cyzeoj"
      },
      "source": [
        "🧾 7️⃣ Tokenize Data"
      ]
    },
    {
      "cell_type": "code",
      "execution_count": 7,
      "metadata": {
        "id": "gtw0_gLxzgt7"
      },
      "outputs": [
        {
          "name": "stderr",
          "output_type": "stream",
          "text": [
            "Map: 100%|██████████| 3512/3512 [00:00<00:00, 8843.15 examples/s]\n"
          ]
        }
      ],
      "source": [
        "def tokenize_function(examples):\n",
        "    return tokenizer(examples[\"text\"], truncation=True, max_length=1024)\n",
        "\n",
        "tokenized_dataset = dataset.map(tokenize_function, batched=True, remove_columns=[\"text\"])\n",
        "\n"
      ]
    },
    {
      "cell_type": "markdown",
      "metadata": {
        "id": "hBk_2xbn-y0f"
      },
      "source": [
        "⚙️ Data Collator"
      ]
    },
    {
      "cell_type": "code",
      "execution_count": 8,
      "metadata": {
        "id": "9-u4hDdMzku4"
      },
      "outputs": [],
      "source": [
        "data_collator = DataCollatorForLanguageModeling(tokenizer=tokenizer, mlm=False)"
      ]
    },
    {
      "cell_type": "markdown",
      "metadata": {
        "id": "8eNhb3s2ztnn"
      },
      "source": [
        "🚀 🔟 🧮 Training Configuration"
      ]
    },
    {
      "cell_type": "code",
      "execution_count": null,
      "metadata": {
        "id": "uvACDsOfztAo"
      },
      "outputs": [
        {
          "ename": "NameError",
          "evalue": "name 'TrainingArguments' is not defined",
          "output_type": "error",
          "traceback": [
            "\u001b[0;31m---------------------------------------------------------------------------\u001b[0m",
            "\u001b[0;31mNameError\u001b[0m                                 Traceback (most recent call last)",
            "Cell \u001b[0;32mIn[2], line 1\u001b[0m\n\u001b[0;32m----> 1\u001b[0m training_args \u001b[38;5;241m=\u001b[39m \u001b[43mTrainingArguments\u001b[49m(\n\u001b[1;32m      2\u001b[0m     output_dir\u001b[38;5;241m=\u001b[39m\u001b[38;5;124m\"\u001b[39m\u001b[38;5;124m./llama3_counseling_domain\u001b[39m\u001b[38;5;124m\"\u001b[39m,\n\u001b[1;32m      3\u001b[0m     per_device_train_batch_size\u001b[38;5;241m=\u001b[39m\u001b[38;5;241m1\u001b[39m,  \u001b[38;5;66;03m# Reduced batch size\u001b[39;00m\n\u001b[1;32m      4\u001b[0m     gradient_accumulation_steps\u001b[38;5;241m=\u001b[39m\u001b[38;5;241m32\u001b[39m, \u001b[38;5;66;03m# Further increased gradient accumulation steps\u001b[39;00m\n\u001b[1;32m      5\u001b[0m     learning_rate\u001b[38;5;241m=\u001b[39m\u001b[38;5;241m1e-5\u001b[39m,\n\u001b[1;32m      6\u001b[0m     num_train_epochs\u001b[38;5;241m=\u001b[39m\u001b[38;5;241m2\u001b[39m,\n\u001b[1;32m      7\u001b[0m     \u001b[38;5;66;03m#fp16=True,\u001b[39;00m\n\u001b[1;32m      8\u001b[0m     save_strategy\u001b[38;5;241m=\u001b[39m\u001b[38;5;124m\"\u001b[39m\u001b[38;5;124mepoch\u001b[39m\u001b[38;5;124m\"\u001b[39m,\n\u001b[1;32m      9\u001b[0m     logging_steps\u001b[38;5;241m=\u001b[39m\u001b[38;5;241m50\u001b[39m,\n\u001b[1;32m     10\u001b[0m     report_to\u001b[38;5;241m=\u001b[39m\u001b[38;5;124m\"\u001b[39m\u001b[38;5;124mnone\u001b[39m\u001b[38;5;124m\"\u001b[39m,\n\u001b[1;32m     11\u001b[0m     gradient_checkpointing\u001b[38;5;241m=\u001b[39m\u001b[38;5;28;01mTrue\u001b[39;00m, \u001b[38;5;66;03m# Enabled gradient checkpointing\u001b[39;00m\n\u001b[1;32m     12\u001b[0m     optim\u001b[38;5;241m=\u001b[39m\u001b[38;5;124m\"\u001b[39m\u001b[38;5;124madamw_torch\u001b[39m\u001b[38;5;124m\"\u001b[39m, \u001b[38;5;66;03m# Specify AdamW optimizer\u001b[39;00m\n\u001b[1;32m     13\u001b[0m )\n",
            "\u001b[0;31mNameError\u001b[0m: name 'TrainingArguments' is not defined"
          ]
        }
      ],
      "source": [
        "training_args = TrainingArguments(\n",
        "    output_dir=\"./llama3_counseling_domain\",\n",
        "    per_device_train_batch_size=1,  # Reduced batch size\n",
        "    gradient_accumulation_steps=32, # Further increased gradient accumulation steps\n",
        "    learning_rate=1e-5,\n",
        "    num_train_epochs=2,\n",
        "    fp16=True,\n",
        "    save_strategy=\"epoch\",\n",
        "    logging_steps=50,\n",
        "    report_to=\"none\",\n",
        "    gradient_checkpointing=True, # Enabled gradient checkpointing\n",
        "    optim=\"adamw_torch\", # Specify AdamW optimizer\n",
        ")"
      ]
    },
    {
      "cell_type": "markdown",
      "metadata": {
        "id": "Lv8uurREzyKz"
      },
      "source": [
        "🚀 7️⃣ Start Training"
      ]
    },
    {
      "cell_type": "code",
      "execution_count": null,
      "metadata": {
        "colab": {
          "base_uri": "https://localhost:8080/",
          "height": 418
        },
        "id": "QzoA0-aIz6Xb",
        "outputId": "32b5986d-07fc-4d99-efc9-2cd25bd54b6d"
      },
      "outputs": [],
      "source": [
        "trainer = Trainer(\n",
        "    model=model,\n",
        "    args=training_args,\n",
        "    train_dataset=tokenized_dataset,\n",
        "    data_collator=data_collator,\n",
        ")\n",
        "\n",
        "trainer.train()\n"
      ]
    },
    {
      "cell_type": "markdown",
      "metadata": {
        "id": "SkIH5Wk5-kbC"
      },
      "source": [
        "💾 8️⃣ Save the Fine-Tuned Model"
      ]
    },
    {
      "cell_type": "code",
      "execution_count": null,
      "metadata": {
        "id": "TGbgP9CM-lT7"
      },
      "outputs": [],
      "source": [
        "trainer.save_model(\"./llama3_counseling_domain\")\n",
        "tokenizer.save_pretrained(\"./llama3_counseling_domain\")\n"
      ]
    },
    {
      "cell_type": "markdown",
      "metadata": {
        "id": "2UIXRTCm-pSx"
      },
      "source": [
        "🧪 9️⃣ Test Generation"
      ]
    },
    {
      "cell_type": "code",
      "execution_count": null,
      "metadata": {
        "id": "AOEl76jm-nzT"
      },
      "outputs": [],
      "source": [
        "from transformers import pipeline\n",
        "\n",
        "pipe = pipeline(\"text-generation\", model=\"./llama3_counseling_domain\", tokenizer=tokenizer)\n",
        "\n",
        "prompt = \"Client: I feel anxious and worthless lately. What should I do?\\nCounselor:\"\n",
        "print(pipe(prompt, max_new_tokens=100)[0][\"generated_text\"])\n"
      ]
    }
  ],
  "metadata": {
    "accelerator": "GPU",
    "colab": {
      "gpuType": "T4",
      "provenance": []
    },
    "kernelspec": {
      "display_name": "rag",
      "language": "python",
      "name": "python3"
    },
    "language_info": {
      "codemirror_mode": {
        "name": "ipython",
        "version": 3
      },
      "file_extension": ".py",
      "mimetype": "text/x-python",
      "name": "python",
      "nbconvert_exporter": "python",
      "pygments_lexer": "ipython3",
      "version": "3.10.18"
    },
    "widgets": {
      "application/vnd.jupyter.widget-state+json": {
        "12beccafcf904169bcd1aa9c57f32bb9": {
          "model_module": "@jupyter-widgets/controls",
          "model_module_version": "1.5.0",
          "model_name": "ProgressStyleModel",
          "state": {
            "_model_module": "@jupyter-widgets/controls",
            "_model_module_version": "1.5.0",
            "_model_name": "ProgressStyleModel",
            "_view_count": null,
            "_view_module": "@jupyter-widgets/base",
            "_view_module_version": "1.2.0",
            "_view_name": "StyleView",
            "bar_color": null,
            "description_width": ""
          }
        },
        "32b1874d47774a04a029c288de8a7ca0": {
          "model_module": "@jupyter-widgets/controls",
          "model_module_version": "1.5.0",
          "model_name": "HTMLModel",
          "state": {
            "_dom_classes": [],
            "_model_module": "@jupyter-widgets/controls",
            "_model_module_version": "1.5.0",
            "_model_name": "HTMLModel",
            "_view_count": null,
            "_view_module": "@jupyter-widgets/controls",
            "_view_module_version": "1.5.0",
            "_view_name": "HTMLView",
            "description": "",
            "description_tooltip": null,
            "layout": "IPY_MODEL_a489933ef658492aba21b994e398154b",
            "placeholder": "​",
            "style": "IPY_MODEL_e8e84471a3364e1ebc6b3800690d86c4",
            "value": " 2/2 [01:02&lt;00:00, 28.17s/it]"
          }
        },
        "3d544c172aaa44cd84a8926d56f03666": {
          "model_module": "@jupyter-widgets/base",
          "model_module_version": "1.2.0",
          "model_name": "LayoutModel",
          "state": {
            "_model_module": "@jupyter-widgets/base",
            "_model_module_version": "1.2.0",
            "_model_name": "LayoutModel",
            "_view_count": null,
            "_view_module": "@jupyter-widgets/base",
            "_view_module_version": "1.2.0",
            "_view_name": "LayoutView",
            "align_content": null,
            "align_items": null,
            "align_self": null,
            "border": null,
            "bottom": null,
            "display": null,
            "flex": null,
            "flex_flow": null,
            "grid_area": null,
            "grid_auto_columns": null,
            "grid_auto_flow": null,
            "grid_auto_rows": null,
            "grid_column": null,
            "grid_gap": null,
            "grid_row": null,
            "grid_template_areas": null,
            "grid_template_columns": null,
            "grid_template_rows": null,
            "height": null,
            "justify_content": null,
            "justify_items": null,
            "left": null,
            "margin": null,
            "max_height": null,
            "max_width": null,
            "min_height": null,
            "min_width": null,
            "object_fit": null,
            "object_position": null,
            "order": null,
            "overflow": null,
            "overflow_x": null,
            "overflow_y": null,
            "padding": null,
            "right": null,
            "top": null,
            "visibility": null,
            "width": null
          }
        },
        "636d8a3efdd84bdd985e720ae3a36a9f": {
          "model_module": "@jupyter-widgets/controls",
          "model_module_version": "1.5.0",
          "model_name": "HBoxModel",
          "state": {
            "_dom_classes": [],
            "_model_module": "@jupyter-widgets/controls",
            "_model_module_version": "1.5.0",
            "_model_name": "HBoxModel",
            "_view_count": null,
            "_view_module": "@jupyter-widgets/controls",
            "_view_module_version": "1.5.0",
            "_view_name": "HBoxView",
            "box_style": "",
            "children": [
              "IPY_MODEL_fabff6bbe4174f8483e81a19090c05a9",
              "IPY_MODEL_eeacaef8a4d34d488d8c2f7443ed2fac",
              "IPY_MODEL_32b1874d47774a04a029c288de8a7ca0"
            ],
            "layout": "IPY_MODEL_ae6cc0fd9c7946bf8f0ea14b96c5a2ea"
          }
        },
        "a489933ef658492aba21b994e398154b": {
          "model_module": "@jupyter-widgets/base",
          "model_module_version": "1.2.0",
          "model_name": "LayoutModel",
          "state": {
            "_model_module": "@jupyter-widgets/base",
            "_model_module_version": "1.2.0",
            "_model_name": "LayoutModel",
            "_view_count": null,
            "_view_module": "@jupyter-widgets/base",
            "_view_module_version": "1.2.0",
            "_view_name": "LayoutView",
            "align_content": null,
            "align_items": null,
            "align_self": null,
            "border": null,
            "bottom": null,
            "display": null,
            "flex": null,
            "flex_flow": null,
            "grid_area": null,
            "grid_auto_columns": null,
            "grid_auto_flow": null,
            "grid_auto_rows": null,
            "grid_column": null,
            "grid_gap": null,
            "grid_row": null,
            "grid_template_areas": null,
            "grid_template_columns": null,
            "grid_template_rows": null,
            "height": null,
            "justify_content": null,
            "justify_items": null,
            "left": null,
            "margin": null,
            "max_height": null,
            "max_width": null,
            "min_height": null,
            "min_width": null,
            "object_fit": null,
            "object_position": null,
            "order": null,
            "overflow": null,
            "overflow_x": null,
            "overflow_y": null,
            "padding": null,
            "right": null,
            "top": null,
            "visibility": null,
            "width": null
          }
        },
        "ae6cc0fd9c7946bf8f0ea14b96c5a2ea": {
          "model_module": "@jupyter-widgets/base",
          "model_module_version": "1.2.0",
          "model_name": "LayoutModel",
          "state": {
            "_model_module": "@jupyter-widgets/base",
            "_model_module_version": "1.2.0",
            "_model_name": "LayoutModel",
            "_view_count": null,
            "_view_module": "@jupyter-widgets/base",
            "_view_module_version": "1.2.0",
            "_view_name": "LayoutView",
            "align_content": null,
            "align_items": null,
            "align_self": null,
            "border": null,
            "bottom": null,
            "display": null,
            "flex": null,
            "flex_flow": null,
            "grid_area": null,
            "grid_auto_columns": null,
            "grid_auto_flow": null,
            "grid_auto_rows": null,
            "grid_column": null,
            "grid_gap": null,
            "grid_row": null,
            "grid_template_areas": null,
            "grid_template_columns": null,
            "grid_template_rows": null,
            "height": null,
            "justify_content": null,
            "justify_items": null,
            "left": null,
            "margin": null,
            "max_height": null,
            "max_width": null,
            "min_height": null,
            "min_width": null,
            "object_fit": null,
            "object_position": null,
            "order": null,
            "overflow": null,
            "overflow_x": null,
            "overflow_y": null,
            "padding": null,
            "right": null,
            "top": null,
            "visibility": null,
            "width": null
          }
        },
        "b926746edcf54913a828d4767f25c6fa": {
          "model_module": "@jupyter-widgets/controls",
          "model_module_version": "1.5.0",
          "model_name": "DescriptionStyleModel",
          "state": {
            "_model_module": "@jupyter-widgets/controls",
            "_model_module_version": "1.5.0",
            "_model_name": "DescriptionStyleModel",
            "_view_count": null,
            "_view_module": "@jupyter-widgets/base",
            "_view_module_version": "1.2.0",
            "_view_name": "StyleView",
            "description_width": ""
          }
        },
        "e8e84471a3364e1ebc6b3800690d86c4": {
          "model_module": "@jupyter-widgets/controls",
          "model_module_version": "1.5.0",
          "model_name": "DescriptionStyleModel",
          "state": {
            "_model_module": "@jupyter-widgets/controls",
            "_model_module_version": "1.5.0",
            "_model_name": "DescriptionStyleModel",
            "_view_count": null,
            "_view_module": "@jupyter-widgets/base",
            "_view_module_version": "1.2.0",
            "_view_name": "StyleView",
            "description_width": ""
          }
        },
        "eb5309f4f29042dca6dce646dee1f6ae": {
          "model_module": "@jupyter-widgets/base",
          "model_module_version": "1.2.0",
          "model_name": "LayoutModel",
          "state": {
            "_model_module": "@jupyter-widgets/base",
            "_model_module_version": "1.2.0",
            "_model_name": "LayoutModel",
            "_view_count": null,
            "_view_module": "@jupyter-widgets/base",
            "_view_module_version": "1.2.0",
            "_view_name": "LayoutView",
            "align_content": null,
            "align_items": null,
            "align_self": null,
            "border": null,
            "bottom": null,
            "display": null,
            "flex": null,
            "flex_flow": null,
            "grid_area": null,
            "grid_auto_columns": null,
            "grid_auto_flow": null,
            "grid_auto_rows": null,
            "grid_column": null,
            "grid_gap": null,
            "grid_row": null,
            "grid_template_areas": null,
            "grid_template_columns": null,
            "grid_template_rows": null,
            "height": null,
            "justify_content": null,
            "justify_items": null,
            "left": null,
            "margin": null,
            "max_height": null,
            "max_width": null,
            "min_height": null,
            "min_width": null,
            "object_fit": null,
            "object_position": null,
            "order": null,
            "overflow": null,
            "overflow_x": null,
            "overflow_y": null,
            "padding": null,
            "right": null,
            "top": null,
            "visibility": null,
            "width": null
          }
        },
        "eeacaef8a4d34d488d8c2f7443ed2fac": {
          "model_module": "@jupyter-widgets/controls",
          "model_module_version": "1.5.0",
          "model_name": "FloatProgressModel",
          "state": {
            "_dom_classes": [],
            "_model_module": "@jupyter-widgets/controls",
            "_model_module_version": "1.5.0",
            "_model_name": "FloatProgressModel",
            "_view_count": null,
            "_view_module": "@jupyter-widgets/controls",
            "_view_module_version": "1.5.0",
            "_view_name": "ProgressView",
            "bar_style": "success",
            "description": "",
            "description_tooltip": null,
            "layout": "IPY_MODEL_eb5309f4f29042dca6dce646dee1f6ae",
            "max": 2,
            "min": 0,
            "orientation": "horizontal",
            "style": "IPY_MODEL_12beccafcf904169bcd1aa9c57f32bb9",
            "value": 2
          }
        },
        "fabff6bbe4174f8483e81a19090c05a9": {
          "model_module": "@jupyter-widgets/controls",
          "model_module_version": "1.5.0",
          "model_name": "HTMLModel",
          "state": {
            "_dom_classes": [],
            "_model_module": "@jupyter-widgets/controls",
            "_model_module_version": "1.5.0",
            "_model_name": "HTMLModel",
            "_view_count": null,
            "_view_module": "@jupyter-widgets/controls",
            "_view_module_version": "1.5.0",
            "_view_name": "HTMLView",
            "description": "",
            "description_tooltip": null,
            "layout": "IPY_MODEL_3d544c172aaa44cd84a8926d56f03666",
            "placeholder": "​",
            "style": "IPY_MODEL_b926746edcf54913a828d4767f25c6fa",
            "value": "Loading checkpoint shards: 100%"
          }
        }
      }
    }
  },
  "nbformat": 4,
  "nbformat_minor": 0
}
